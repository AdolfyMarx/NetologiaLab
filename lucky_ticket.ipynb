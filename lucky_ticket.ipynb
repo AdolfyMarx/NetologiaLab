{
 "cells": [
  {
   "cell_type": "code",
   "execution_count": 13,
   "metadata": {},
   "outputs": [
    {
     "name": "stdout",
     "output_type": "stream",
     "text": [
      "Введите номер билета: 1234212\n",
      "нечетное количество символов, в начало добавлен 0\n",
      "Увы, билет не счастливый.\n"
     ]
    }
   ],
   "source": [
    "list_of_digits = list(str(input('Введите номер билета: ')))\n",
    "if len(list_of_digits) % 2 != 0:\n",
    "    list_of_digits = [0] + list_of_digits\n",
    "    print('нечетное количество символов, в начало добавлен 0')\n",
    "left_part_of_list = list_of_digits[:len(list_of_digits)//2]\n",
    "inversed_right_part_of_list = list(reversed(list_of_digits[len(list_of_digits)//2:]))\n",
    "if left_part_of_list == inversed_right_part_of_list:\n",
    "    print('Ура, счастливый билет!')\n",
    "else:\n",
    "    print('Увы, билет не счастливый...')\n"
   ]
  },
  {
   "cell_type": "code",
   "execution_count": null,
   "metadata": {},
   "outputs": [],
   "source": []
  }
 ],
 "metadata": {
  "kernelspec": {
   "display_name": "Python 3",
   "language": "python",
   "name": "python3"
  },
  "language_info": {
   "codemirror_mode": {
    "name": "ipython",
    "version": 3
   },
   "file_extension": ".py",
   "mimetype": "text/x-python",
   "name": "python",
   "nbconvert_exporter": "python",
   "pygments_lexer": "ipython3",
   "version": "3.7.6"
  }
 },
 "nbformat": 4,
 "nbformat_minor": 4
}
